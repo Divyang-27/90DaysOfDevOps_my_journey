{
  "nbformat": 4,
  "nbformat_minor": 0,
  "metadata": {
    "colab": {
      "provenance": [],
      "toc_visible": true,
      "gpuType": "V28",
      "include_colab_link": true
    },
    "kernelspec": {
      "name": "python3",
      "display_name": "Python 3"
    },
    "language_info": {
      "name": "python"
    },
    "accelerator": "TPU"
  },
  "cells": [
    {
      "cell_type": "markdown",
      "metadata": {
        "id": "view-in-github",
        "colab_type": "text"
      },
      "source": [
        "<a href=\"https://colab.research.google.com/github/Divyang-27/90DaysOfDevOps_my_journey/blob/master/PythonBasics.ipynb\" target=\"_parent\"><img src=\"https://colab.research.google.com/assets/colab-badge.svg\" alt=\"Open In Colab\"/></a>"
      ]
    },
    {
      "cell_type": "markdown",
      "source": [
        "# Hello world\n"
      ],
      "metadata": {
        "id": "YlHtICA9B7AX"
      }
    },
    {
      "cell_type": "code",
      "execution_count": null,
      "metadata": {
        "colab": {
          "base_uri": "https://localhost:8080/"
        },
        "id": "W0VyB1e0BCjF",
        "outputId": "b31b6860-ed33-40b2-f899-c49df48d2453"
      },
      "outputs": [
        {
          "output_type": "stream",
          "name": "stdout",
          "text": [
            "Hello world\n"
          ]
        }
      ],
      "source": [
        "print(\"Hello world\") # \"\"  ''  \"\"\" \"\"\" for multiple lines"
      ]
    },
    {
      "cell_type": "code",
      "source": [
        "#Type error --> something is getting use where its not supposed to \"hello\"-\"hi\"\n",
        "#Syntax error --> something wrong with syntax"
      ],
      "metadata": {
        "id": "m0yJE2N7DRvK"
      },
      "execution_count": null,
      "outputs": []
    },
    {
      "cell_type": "markdown",
      "source": [
        "# Data Types\n",
        "|\n"
      ],
      "metadata": {
        "id": "JHm4vx5-iZKy"
      }
    },
    {
      "cell_type": "code",
      "source": [
        "#Data types\n",
        "#number\n",
        "23\n",
        "23+ 4 #Integer summation\n",
        "#String\n",
        "\"23\"\n",
        "\"23\"+\"4\" #concat strings --> 234\n",
        "#Float\n",
        "3.2\n",
        "#boolean\n",
        "True\n",
        "False\n",
        "4>3 #condtion will print boolean"
      ],
      "metadata": {
        "colab": {
          "base_uri": "https://localhost:8080/"
        },
        "id": "OPvHJ-yoDJEw",
        "outputId": "ac30e4e0-b745-4fe3-cf81-7193d95126a5"
      },
      "execution_count": null,
      "outputs": [
        {
          "output_type": "execute_result",
          "data": {
            "text/plain": [
              "True"
            ]
          },
          "metadata": {},
          "execution_count": 19
        }
      ]
    },
    {
      "cell_type": "code",
      "source": [
        "my_name=input() #taking the input # variable (dynamic)\n",
        "int(my_name)\n",
        "print(my_name)"
      ],
      "metadata": {
        "colab": {
          "base_uri": "https://localhost:8080/"
        },
        "id": "8f1I6yl7BuPK",
        "outputId": "f49cefa6-5d31-4b2f-92fc-54bed29d9d90"
      },
      "execution_count": null,
      "outputs": [
        {
          "output_type": "stream",
          "name": "stdout",
          "text": [
            "DIvyang\n",
            "DIvyang\n"
          ]
        }
      ]
    },
    {
      "cell_type": "code",
      "source": [
        "type(3) # will tell me the data type"
      ],
      "metadata": {
        "colab": {
          "base_uri": "https://localhost:8080/"
        },
        "id": "Bup3drOFFTrw",
        "outputId": "d9f49f12-c544-4b33-d1ba-e7a7b4336256"
      },
      "execution_count": null,
      "outputs": [
        {
          "output_type": "execute_result",
          "data": {
            "text/plain": [
              "int"
            ]
          },
          "metadata": {},
          "execution_count": 9
        }
      ]
    },
    {
      "cell_type": "markdown",
      "source": [
        "#Operation"
      ],
      "metadata": {
        "id": "RGdACt7pifQD"
      }
    },
    {
      "cell_type": "code",
      "source": [
        "#Operation\n",
        "3-2\n",
        "3+3\n",
        "3*3\n",
        "3%3\n",
        "4/3\n",
        "4//3  # returns the integer divsion\n",
        "5**3  #exponentiation\n",
        "\n",
        "not False #not operator\n",
        "\n",
        "3==3 #comparision > =>\n",
        "\n"
      ],
      "metadata": {
        "colab": {
          "base_uri": "https://localhost:8080/"
        },
        "id": "SbXH7lrLFn4_",
        "outputId": "761c3423-1c37-4d65-931d-bcc9028da4b3"
      },
      "execution_count": null,
      "outputs": [
        {
          "output_type": "execute_result",
          "data": {
            "text/plain": [
              "True"
            ]
          },
          "metadata": {},
          "execution_count": 23
        }
      ]
    },
    {
      "cell_type": "code",
      "source": [
        "# day_of_week= input(\"Enter the day of week:  \").lower()  # will convert the input to lowercase same upper()\n",
        "# print(day_of_week)\n",
        "\n",
        "# # = assignment operator  # == equality(comparing)\n",
        "# if day_of_week==\"saturday\" or day_of_week==\"sunday\" :\n",
        "#     print(\"Have fun\")      #indetation is necessary as we dont have much {} bracket use in python\n",
        "# else: print(\"Get back to work\")\n",
        "\n",
        "\n",
        "num1=int(input(\"Enter your number1: \"))\n",
        "num2=int(input(\"Enter your number2: \"))\n",
        "operation=input(\"Enter the operation: \")\n",
        "\n",
        "if operation==\"+\" :\n",
        "    sum= num1+num2\n",
        "    print(\"Sum of two numbers \", sum)\n",
        "\n",
        "elif operation==\"-\" :\n",
        "    diff= num1- num2\n",
        "    print(\"Difference of two numbers \", diff)\n",
        "\n",
        "elif operation==\"*\":\n",
        "    prod= num1*num2\n",
        "    print(\"Product of two numbers \", prod)\n",
        "\n",
        "elif operation==\"/\":\n",
        "    division= num1/num2\n",
        "    print(\"Division of two numbers \", division)\n",
        "\n",
        "elif operation==\"%\":\n",
        "    modulus= num1%num2\n",
        "    print(\"Modulus of two numbers \", modulus)\n",
        "\n",
        "elif operation==\"**\":\n",
        "    exponentiation= num1**num2\n",
        "    print(\"exponentiation of two numbers \", exponentiation)\n",
        "\n",
        "elif operation==\"//\":\n",
        "    floor_division= num1//num2\n",
        "    print(\"Floor division of two numbers \", floor_division)"
      ],
      "metadata": {
        "colab": {
          "base_uri": "https://localhost:8080/"
        },
        "id": "2PMIsGZHGAuY",
        "outputId": "2b90a60b-fd0b-4454-fd7e-f96bb0fb9ab5"
      },
      "execution_count": null,
      "outputs": [
        {
          "output_type": "stream",
          "name": "stdout",
          "text": [
            "Enter your number1: 2\n",
            "Enter your number2: 3\n",
            "Enter the operation: -\n",
            "Difference of two numbers  -1\n"
          ]
        }
      ]
    },
    {
      "cell_type": "markdown",
      "source": [],
      "metadata": {
        "id": "-3PXUO1qhyiA"
      }
    },
    {
      "cell_type": "markdown",
      "source": [
        "# List\n"
      ],
      "metadata": {
        "id": "IZ3wr-RqhzLN"
      }
    },
    {
      "cell_type": "code",
      "source": [
        "fruits=['Orange', 'Banana']\n",
        "fruits.append('Apple') #adds at the end of list\n",
        "type(fruits)\n",
        "fruits[1]\n"
      ],
      "metadata": {
        "colab": {
          "base_uri": "https://localhost:8080/",
          "height": 35
        },
        "id": "46a3_-oEgM3h",
        "outputId": "79b1d004-d7bd-4d96-e30e-25b0773d8770"
      },
      "execution_count": null,
      "outputs": [
        {
          "output_type": "execute_result",
          "data": {
            "text/plain": [
              "'Banana'"
            ],
            "application/vnd.google.colaboratory.intrinsic+json": {
              "type": "string"
            }
          },
          "metadata": {},
          "execution_count": 11
        }
      ]
    },
    {
      "cell_type": "markdown",
      "source": [
        "# LOOPS\n"
      ],
      "metadata": {
        "id": "oLSHTGmziG2X"
      }
    },
    {
      "cell_type": "code",
      "source": [
        "#for loop\n",
        "#for in loop for array iteration\n",
        "for i in fruits:\n",
        "  print(i)\n",
        "\n",
        "for i in [0,1,2]:\n",
        "  print(fruits)"
      ],
      "metadata": {
        "colab": {
          "base_uri": "https://localhost:8080/",
          "height": 106
        },
        "id": "2UnPQLYFgUJl",
        "outputId": "c4b9f11b-2714-4d8f-ab31-ac7a7b7889c0"
      },
      "execution_count": null,
      "outputs": [
        {
          "output_type": "error",
          "ename": "SyntaxError",
          "evalue": "incomplete input (<ipython-input-13-546861e7200d>, line 6)",
          "traceback": [
            "\u001b[0;36m  File \u001b[0;32m\"<ipython-input-13-546861e7200d>\"\u001b[0;36m, line \u001b[0;32m6\u001b[0m\n\u001b[0;31m    for i in [0,1,2]:\u001b[0m\n\u001b[0m                     ^\u001b[0m\n\u001b[0;31mSyntaxError\u001b[0m\u001b[0;31m:\u001b[0m incomplete input\n"
          ]
        }
      ]
    },
    {
      "cell_type": "code",
      "source": [
        "#"
      ],
      "metadata": {
        "id": "s1OAiT57inpd"
      },
      "execution_count": null,
      "outputs": []
    }
  ]
}